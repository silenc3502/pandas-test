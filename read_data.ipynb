{
 "cells": [
  {
   "cell_type": "code",
   "execution_count": 2,
   "id": "2615db72",
   "metadata": {},
   "outputs": [
    {
     "name": "stdout",
     "output_type": "stream",
     "text": [
      "Collecting xlrd\n",
      "  Downloading xlrd-2.0.1-py2.py3-none-any.whl (96 kB)\n",
      "     ---------------------------------------- 0.0/96.5 kB ? eta -:--:--\n",
      "     ---------------------------------------- 96.5/96.5 kB 5.8 MB/s eta 0:00:00\n",
      "Installing collected packages: xlrd\n",
      "Successfully installed xlrd-2.0.1\n"
     ]
    }
   ],
   "source": [
    "!pip install xlrd"
   ]
  },
  {
   "cell_type": "code",
   "execution_count": 4,
   "id": "d4f8650e",
   "metadata": {},
   "outputs": [
    {
     "name": "stdout",
     "output_type": "stream",
     "text": [
      "Collecting openpyxl\n",
      "  Downloading openpyxl-3.1.2-py2.py3-none-any.whl (249 kB)\n",
      "     ---------------------------------------- 0.0/250.0 kB ? eta -:--:--\n",
      "     ------------------------------------- 250.0/250.0 kB 16.0 MB/s eta 0:00:00\n",
      "Collecting et-xmlfile\n",
      "  Downloading et_xmlfile-1.1.0-py3-none-any.whl (4.7 kB)\n",
      "Installing collected packages: et-xmlfile, openpyxl\n",
      "Successfully installed et-xmlfile-1.1.0 openpyxl-3.1.2\n"
     ]
    }
   ],
   "source": [
    "!pip install openpyxl"
   ]
  },
  {
   "cell_type": "code",
   "execution_count": 12,
   "id": "456d43a4",
   "metadata": {},
   "outputs": [
    {
     "name": "stdout",
     "output_type": "stream",
     "text": [
      "Collecting pymysql\n",
      "  Downloading PyMySQL-1.0.2-py3-none-any.whl (43 kB)\n",
      "     ---------------------------------------- 0.0/43.8 kB ? eta -:--:--\n",
      "     ---------------------------------------- 43.8/43.8 kB ? eta 0:00:00\n",
      "Installing collected packages: pymysql\n",
      "Successfully installed pymysql-1.0.2\n"
     ]
    }
   ],
   "source": [
    "!pip install pymysql"
   ]
  },
  {
   "cell_type": "code",
   "execution_count": 21,
   "id": "98903872",
   "metadata": {},
   "outputs": [
    {
     "name": "stdout",
     "output_type": "stream",
     "text": [
      "Collecting sqlalchemy\n",
      "  Downloading SQLAlchemy-2.0.7-cp310-cp310-win_amd64.whl (2.0 MB)\n",
      "     ---------------------------------------- 0.0/2.0 MB ? eta -:--:--\n",
      "     ------------- -------------------------- 0.7/2.0 MB 14.0 MB/s eta 0:00:01\n",
      "     ------------------------------------- -- 1.9/2.0 MB 23.6 MB/s eta 0:00:01\n",
      "     ---------------------------------------- 2.0/2.0 MB 17.9 MB/s eta 0:00:00\n",
      "Collecting greenlet!=0.4.17\n",
      "  Downloading greenlet-2.0.2-cp310-cp310-win_amd64.whl (192 kB)\n",
      "     ---------------------------------------- 0.0/192.2 kB ? eta -:--:--\n",
      "     ---------------------------------------- 192.2/192.2 kB ? eta 0:00:00\n",
      "Requirement already satisfied: typing-extensions>=4.2.0 in c:\\users\\user2\\anaconda3\\envs\\lecture_python_env\\lib\\site-packages (from sqlalchemy) (4.4.0)\n",
      "Installing collected packages: greenlet, sqlalchemy\n",
      "Successfully installed greenlet-2.0.2 sqlalchemy-2.0.7\n"
     ]
    }
   ],
   "source": [
    "!pip install sqlalchemy"
   ]
  },
  {
   "cell_type": "code",
   "execution_count": 29,
   "id": "3db6abb3",
   "metadata": {},
   "outputs": [
    {
     "name": "stdout",
     "output_type": "stream",
     "text": [
      "Collecting mysql-connector\n",
      "  Downloading mysql-connector-2.2.9.tar.gz (11.9 MB)\n",
      "     ---------------------------------------- 0.0/11.9 MB ? eta -:--:--\n",
      "     - -------------------------------------- 0.6/11.9 MB 11.8 MB/s eta 0:00:01\n",
      "     ----- ---------------------------------- 1.6/11.9 MB 16.6 MB/s eta 0:00:01\n",
      "     ---------- ----------------------------- 3.0/11.9 MB 21.4 MB/s eta 0:00:01\n",
      "     ----------------- ---------------------- 5.3/11.9 MB 28.2 MB/s eta 0:00:01\n",
      "     ---------------------------- ----------- 8.4/11.9 MB 38.7 MB/s eta 0:00:01\n",
      "     --------------------------------------  11.8/11.9 MB 59.5 MB/s eta 0:00:01\n",
      "     --------------------------------------- 11.9/11.9 MB 50.1 MB/s eta 0:00:00\n",
      "  Preparing metadata (setup.py): started\n",
      "  Preparing metadata (setup.py): finished with status 'done'\n",
      "Building wheels for collected packages: mysql-connector\n",
      "  Building wheel for mysql-connector (setup.py): started\n",
      "  Building wheel for mysql-connector (setup.py): finished with status 'done'\n",
      "  Created wheel for mysql-connector: filename=mysql_connector-2.2.9-cp310-cp310-win_amd64.whl size=247958 sha256=24d8fb313e9736a43121d443cf3ddc3014e776435a2bb060aa7f10220212f131\n",
      "  Stored in directory: c:\\users\\user2\\appdata\\local\\pip\\cache\\wheels\\76\\48\\9b\\da67ff1a18fe8e9d428f9b1a177716d4a7d363d2bbe83bf6cf\n",
      "Successfully built mysql-connector\n",
      "Installing collected packages: mysql-connector\n",
      "Successfully installed mysql-connector-2.2.9\n"
     ]
    }
   ],
   "source": [
    "!pip install mysql-connector"
   ]
  },
  {
   "cell_type": "code",
   "execution_count": 5,
   "id": "1b48a662",
   "metadata": {},
   "outputs": [
    {
     "name": "stdout",
     "output_type": "stream",
     "text": [
      "           식별구분   PRE_LMT  PRE_RT  GOODS_CD  INA_CD   AD_NO LIV_ADD RES_ADD  \\\n",
      "0       1000001  11000000    7.01    760143       8  AD0005      경기      경기   \n",
      "1       1000002  12000000    8.31    760054      15  AD0003      인천      인천   \n",
      "2       1000003   9000000   14.38    760010      14  AD0002      충남      충남   \n",
      "3       1000004  13000000    9.37    760010      23  AD0003      충북      충북   \n",
      "4       1000005  15000000    7.01    760143      21  AD0005      울산      울산   \n",
      "...         ...       ...     ...       ...     ...     ...     ...     ...   \n",
      "155741  1155742  11000000    6.84    760143       4  AD0005      서울      서울   \n",
      "155742  1155743   9000000    7.31    760143       2  AD0005      경북      경북   \n",
      "155743  1155744   9000000    6.95    760143       3  AD0005      충남      충남   \n",
      "155744  1155745  15000000    6.75    760143      27  AD0005      대구      대구   \n",
      "155745  1155746  11000000    6.74    760143      10  AD0005      경기      경기   \n",
      "\n",
      "       ADD_YN  SALE_TRM  ... PS0000279 PS0000282  PS0000500  PS0001894  \\\n",
      "0           Y        60  ...         0         0          0          0   \n",
      "1           Y        60  ...         0         0          3      12012   \n",
      "2           Y        60  ...         0         0          1       1332   \n",
      "3           Y        60  ...         0         0          0          0   \n",
      "4           Y        60  ...         1         1          2       7489   \n",
      "...       ...       ...  ...       ...       ...        ...        ...   \n",
      "155741      Y        60  ...         0         0          0          0   \n",
      "155742      Y        36  ...         0         0          0          0   \n",
      "155743      Y        60  ...         1         1          0          0   \n",
      "155744      Y        60  ...         0         0          2       3326   \n",
      "155745      Y        60  ...         0         0          1       3003   \n",
      "\n",
      "        PS0001895  PS0001896  PS0001897  CB  SP  결과값(연체회차)  \n",
      "0               1       7526          1   7   0          0  \n",
      "1               3      12012          3   6   0          0  \n",
      "2               2      10772          2   5   0          0  \n",
      "3               0          0          0   2   1          0  \n",
      "4               2       7489          2   2   0          0  \n",
      "...           ...        ...        ...  ..  ..        ...  \n",
      "155741          0          0          0   3   0          3  \n",
      "155742          0          0          0   2   0          0  \n",
      "155743          0          0          1   5   0          0  \n",
      "155744          2       3326          2   4   0          1  \n",
      "155745          1       3003          1   2   0          1  \n",
      "\n",
      "[155746 rows x 207 columns]\n"
     ]
    }
   ],
   "source": [
    "import pandas as pd\n",
    "\n",
    "df = pd.read_excel('D:\\proj\\python/비실명화_data.xlsx')\n",
    "\n",
    "print(df)"
   ]
  },
  {
   "cell_type": "code",
   "execution_count": 6,
   "id": "a738c1bf",
   "metadata": {},
   "outputs": [
    {
     "data": {
      "text/html": [
       "<div>\n",
       "<style scoped>\n",
       "    .dataframe tbody tr th:only-of-type {\n",
       "        vertical-align: middle;\n",
       "    }\n",
       "\n",
       "    .dataframe tbody tr th {\n",
       "        vertical-align: top;\n",
       "    }\n",
       "\n",
       "    .dataframe thead th {\n",
       "        text-align: right;\n",
       "    }\n",
       "</style>\n",
       "<table border=\"1\" class=\"dataframe\">\n",
       "  <thead>\n",
       "    <tr style=\"text-align: right;\">\n",
       "      <th></th>\n",
       "      <th>식별구분</th>\n",
       "      <th>PRE_LMT</th>\n",
       "      <th>PRE_RT</th>\n",
       "      <th>GOODS_CD</th>\n",
       "      <th>INA_CD</th>\n",
       "      <th>AD_NO</th>\n",
       "      <th>LIV_ADD</th>\n",
       "      <th>RES_ADD</th>\n",
       "      <th>ADD_YN</th>\n",
       "      <th>SALE_TRM</th>\n",
       "      <th>...</th>\n",
       "      <th>PS0000279</th>\n",
       "      <th>PS0000282</th>\n",
       "      <th>PS0000500</th>\n",
       "      <th>PS0001894</th>\n",
       "      <th>PS0001895</th>\n",
       "      <th>PS0001896</th>\n",
       "      <th>PS0001897</th>\n",
       "      <th>CB</th>\n",
       "      <th>SP</th>\n",
       "      <th>결과값(연체회차)</th>\n",
       "    </tr>\n",
       "  </thead>\n",
       "  <tbody>\n",
       "    <tr>\n",
       "      <th>0</th>\n",
       "      <td>1000001</td>\n",
       "      <td>11000000</td>\n",
       "      <td>7.01</td>\n",
       "      <td>760143</td>\n",
       "      <td>8</td>\n",
       "      <td>AD0005</td>\n",
       "      <td>경기</td>\n",
       "      <td>경기</td>\n",
       "      <td>Y</td>\n",
       "      <td>60</td>\n",
       "      <td>...</td>\n",
       "      <td>0</td>\n",
       "      <td>0</td>\n",
       "      <td>0</td>\n",
       "      <td>0</td>\n",
       "      <td>1</td>\n",
       "      <td>7526</td>\n",
       "      <td>1</td>\n",
       "      <td>7</td>\n",
       "      <td>0</td>\n",
       "      <td>0</td>\n",
       "    </tr>\n",
       "    <tr>\n",
       "      <th>1</th>\n",
       "      <td>1000002</td>\n",
       "      <td>12000000</td>\n",
       "      <td>8.31</td>\n",
       "      <td>760054</td>\n",
       "      <td>15</td>\n",
       "      <td>AD0003</td>\n",
       "      <td>인천</td>\n",
       "      <td>인천</td>\n",
       "      <td>Y</td>\n",
       "      <td>60</td>\n",
       "      <td>...</td>\n",
       "      <td>0</td>\n",
       "      <td>0</td>\n",
       "      <td>3</td>\n",
       "      <td>12012</td>\n",
       "      <td>3</td>\n",
       "      <td>12012</td>\n",
       "      <td>3</td>\n",
       "      <td>6</td>\n",
       "      <td>0</td>\n",
       "      <td>0</td>\n",
       "    </tr>\n",
       "    <tr>\n",
       "      <th>2</th>\n",
       "      <td>1000003</td>\n",
       "      <td>9000000</td>\n",
       "      <td>14.38</td>\n",
       "      <td>760010</td>\n",
       "      <td>14</td>\n",
       "      <td>AD0002</td>\n",
       "      <td>충남</td>\n",
       "      <td>충남</td>\n",
       "      <td>Y</td>\n",
       "      <td>60</td>\n",
       "      <td>...</td>\n",
       "      <td>0</td>\n",
       "      <td>0</td>\n",
       "      <td>1</td>\n",
       "      <td>1332</td>\n",
       "      <td>2</td>\n",
       "      <td>10772</td>\n",
       "      <td>2</td>\n",
       "      <td>5</td>\n",
       "      <td>0</td>\n",
       "      <td>0</td>\n",
       "    </tr>\n",
       "    <tr>\n",
       "      <th>3</th>\n",
       "      <td>1000004</td>\n",
       "      <td>13000000</td>\n",
       "      <td>9.37</td>\n",
       "      <td>760010</td>\n",
       "      <td>23</td>\n",
       "      <td>AD0003</td>\n",
       "      <td>충북</td>\n",
       "      <td>충북</td>\n",
       "      <td>Y</td>\n",
       "      <td>60</td>\n",
       "      <td>...</td>\n",
       "      <td>0</td>\n",
       "      <td>0</td>\n",
       "      <td>0</td>\n",
       "      <td>0</td>\n",
       "      <td>0</td>\n",
       "      <td>0</td>\n",
       "      <td>0</td>\n",
       "      <td>2</td>\n",
       "      <td>1</td>\n",
       "      <td>0</td>\n",
       "    </tr>\n",
       "    <tr>\n",
       "      <th>4</th>\n",
       "      <td>1000005</td>\n",
       "      <td>15000000</td>\n",
       "      <td>7.01</td>\n",
       "      <td>760143</td>\n",
       "      <td>21</td>\n",
       "      <td>AD0005</td>\n",
       "      <td>울산</td>\n",
       "      <td>울산</td>\n",
       "      <td>Y</td>\n",
       "      <td>60</td>\n",
       "      <td>...</td>\n",
       "      <td>1</td>\n",
       "      <td>1</td>\n",
       "      <td>2</td>\n",
       "      <td>7489</td>\n",
       "      <td>2</td>\n",
       "      <td>7489</td>\n",
       "      <td>2</td>\n",
       "      <td>2</td>\n",
       "      <td>0</td>\n",
       "      <td>0</td>\n",
       "    </tr>\n",
       "    <tr>\n",
       "      <th>5</th>\n",
       "      <td>1000006</td>\n",
       "      <td>7400000</td>\n",
       "      <td>13.31</td>\n",
       "      <td>760036</td>\n",
       "      <td>11</td>\n",
       "      <td>AD0003</td>\n",
       "      <td>서울</td>\n",
       "      <td>서울</td>\n",
       "      <td>Y</td>\n",
       "      <td>60</td>\n",
       "      <td>...</td>\n",
       "      <td>0</td>\n",
       "      <td>0</td>\n",
       "      <td>1</td>\n",
       "      <td>500</td>\n",
       "      <td>1</td>\n",
       "      <td>500</td>\n",
       "      <td>1</td>\n",
       "      <td>2</td>\n",
       "      <td>0</td>\n",
       "      <td>0</td>\n",
       "    </tr>\n",
       "    <tr>\n",
       "      <th>6</th>\n",
       "      <td>1000007</td>\n",
       "      <td>1000000</td>\n",
       "      <td>13.58</td>\n",
       "      <td>760010</td>\n",
       "      <td>8</td>\n",
       "      <td>AD0002</td>\n",
       "      <td>경남</td>\n",
       "      <td>경남</td>\n",
       "      <td>Y</td>\n",
       "      <td>60</td>\n",
       "      <td>...</td>\n",
       "      <td>1</td>\n",
       "      <td>2</td>\n",
       "      <td>0</td>\n",
       "      <td>0</td>\n",
       "      <td>1</td>\n",
       "      <td>6000</td>\n",
       "      <td>3</td>\n",
       "      <td>8</td>\n",
       "      <td>0</td>\n",
       "      <td>0</td>\n",
       "    </tr>\n",
       "    <tr>\n",
       "      <th>7</th>\n",
       "      <td>1000008</td>\n",
       "      <td>9000000</td>\n",
       "      <td>7.91</td>\n",
       "      <td>760054</td>\n",
       "      <td>25</td>\n",
       "      <td>AD0002</td>\n",
       "      <td>강원</td>\n",
       "      <td>강원</td>\n",
       "      <td>Y</td>\n",
       "      <td>60</td>\n",
       "      <td>...</td>\n",
       "      <td>0</td>\n",
       "      <td>0</td>\n",
       "      <td>0</td>\n",
       "      <td>0</td>\n",
       "      <td>0</td>\n",
       "      <td>0</td>\n",
       "      <td>0</td>\n",
       "      <td>8</td>\n",
       "      <td>0</td>\n",
       "      <td>0</td>\n",
       "    </tr>\n",
       "    <tr>\n",
       "      <th>8</th>\n",
       "      <td>1000009</td>\n",
       "      <td>12000000</td>\n",
       "      <td>8.41</td>\n",
       "      <td>760054</td>\n",
       "      <td>11</td>\n",
       "      <td>AD0003</td>\n",
       "      <td>경기</td>\n",
       "      <td>경기</td>\n",
       "      <td>Y</td>\n",
       "      <td>60</td>\n",
       "      <td>...</td>\n",
       "      <td>0</td>\n",
       "      <td>0</td>\n",
       "      <td>3</td>\n",
       "      <td>12450</td>\n",
       "      <td>4</td>\n",
       "      <td>17846</td>\n",
       "      <td>6</td>\n",
       "      <td>6</td>\n",
       "      <td>0</td>\n",
       "      <td>0</td>\n",
       "    </tr>\n",
       "    <tr>\n",
       "      <th>9</th>\n",
       "      <td>1000010</td>\n",
       "      <td>12000000</td>\n",
       "      <td>7.81</td>\n",
       "      <td>760054</td>\n",
       "      <td>15</td>\n",
       "      <td>AD0002</td>\n",
       "      <td>충북</td>\n",
       "      <td>충북</td>\n",
       "      <td>Y</td>\n",
       "      <td>60</td>\n",
       "      <td>...</td>\n",
       "      <td>0</td>\n",
       "      <td>0</td>\n",
       "      <td>3</td>\n",
       "      <td>6894</td>\n",
       "      <td>3</td>\n",
       "      <td>6894</td>\n",
       "      <td>4</td>\n",
       "      <td>5</td>\n",
       "      <td>0</td>\n",
       "      <td>0</td>\n",
       "    </tr>\n",
       "  </tbody>\n",
       "</table>\n",
       "<p>10 rows × 207 columns</p>\n",
       "</div>"
      ],
      "text/plain": [
       "      식별구분   PRE_LMT  PRE_RT  GOODS_CD  INA_CD   AD_NO LIV_ADD RES_ADD ADD_YN  \\\n",
       "0  1000001  11000000    7.01    760143       8  AD0005      경기      경기      Y   \n",
       "1  1000002  12000000    8.31    760054      15  AD0003      인천      인천      Y   \n",
       "2  1000003   9000000   14.38    760010      14  AD0002      충남      충남      Y   \n",
       "3  1000004  13000000    9.37    760010      23  AD0003      충북      충북      Y   \n",
       "4  1000005  15000000    7.01    760143      21  AD0005      울산      울산      Y   \n",
       "5  1000006   7400000   13.31    760036      11  AD0003      서울      서울      Y   \n",
       "6  1000007   1000000   13.58    760010       8  AD0002      경남      경남      Y   \n",
       "7  1000008   9000000    7.91    760054      25  AD0002      강원      강원      Y   \n",
       "8  1000009  12000000    8.41    760054      11  AD0003      경기      경기      Y   \n",
       "9  1000010  12000000    7.81    760054      15  AD0002      충북      충북      Y   \n",
       "\n",
       "   SALE_TRM  ... PS0000279 PS0000282  PS0000500  PS0001894  PS0001895  \\\n",
       "0        60  ...         0         0          0          0          1   \n",
       "1        60  ...         0         0          3      12012          3   \n",
       "2        60  ...         0         0          1       1332          2   \n",
       "3        60  ...         0         0          0          0          0   \n",
       "4        60  ...         1         1          2       7489          2   \n",
       "5        60  ...         0         0          1        500          1   \n",
       "6        60  ...         1         2          0          0          1   \n",
       "7        60  ...         0         0          0          0          0   \n",
       "8        60  ...         0         0          3      12450          4   \n",
       "9        60  ...         0         0          3       6894          3   \n",
       "\n",
       "   PS0001896  PS0001897  CB  SP  결과값(연체회차)  \n",
       "0       7526          1   7   0          0  \n",
       "1      12012          3   6   0          0  \n",
       "2      10772          2   5   0          0  \n",
       "3          0          0   2   1          0  \n",
       "4       7489          2   2   0          0  \n",
       "5        500          1   2   0          0  \n",
       "6       6000          3   8   0          0  \n",
       "7          0          0   8   0          0  \n",
       "8      17846          6   6   0          0  \n",
       "9       6894          4   5   0          0  \n",
       "\n",
       "[10 rows x 207 columns]"
      ]
     },
     "execution_count": 6,
     "metadata": {},
     "output_type": "execute_result"
    }
   ],
   "source": [
    "df.head(10)"
   ]
  },
  {
   "cell_type": "code",
   "execution_count": 7,
   "id": "e3091f5b",
   "metadata": {},
   "outputs": [
    {
     "data": {
      "text/plain": [
       "(155746, 207)"
      ]
     },
     "execution_count": 7,
     "metadata": {},
     "output_type": "execute_result"
    }
   ],
   "source": [
    "df.shape"
   ]
  },
  {
   "cell_type": "code",
   "execution_count": 18,
   "id": "9874f3e5",
   "metadata": {},
   "outputs": [
    {
     "data": {
      "text/plain": [
       "0         11000000\n",
       "1         12000000\n",
       "2          9000000\n",
       "3         13000000\n",
       "4         15000000\n",
       "            ...   \n",
       "155741    11000000\n",
       "155742     9000000\n",
       "155743     9000000\n",
       "155744    15000000\n",
       "155745    11000000\n",
       "Name: PRE_LMT, Length: 155746, dtype: int64"
      ]
     },
     "execution_count": 18,
     "metadata": {},
     "output_type": "execute_result"
    }
   ],
   "source": [
    "target = df['PRE_LMT']\n",
    "target"
   ]
  },
  {
   "cell_type": "code",
   "execution_count": null,
   "id": "b8a00cbf",
   "metadata": {},
   "outputs": [],
   "source": []
  },
  {
   "cell_type": "code",
   "execution_count": 11,
   "id": "2db785cb",
   "metadata": {},
   "outputs": [
    {
     "data": {
      "text/plain": [
       "0          7.01\n",
       "1          8.31\n",
       "2         14.38\n",
       "3          9.37\n",
       "4          7.01\n",
       "          ...  \n",
       "155741     6.84\n",
       "155742     7.31\n",
       "155743     6.95\n",
       "155744     6.75\n",
       "155745     6.74\n",
       "Name: PRE_RT, Length: 155746, dtype: float64"
      ]
     },
     "execution_count": 11,
     "metadata": {},
     "output_type": "execute_result"
    }
   ],
   "source": [
    "target = df['PRE_RT']\n",
    "target"
   ]
  },
  {
   "cell_type": "code",
   "execution_count": 14,
   "id": "1b245440",
   "metadata": {},
   "outputs": [],
   "source": [
    "import pymysql\n",
    "\n",
    "db = pymysql.connect(\n",
    "    host = '127.0.0.1',\n",
    "    port = 3306,\n",
    "    user = 'eddi',\n",
    "    passwd = 'eddi@123',\n",
    "    db = 'pydb'\n",
    ")"
   ]
  },
  {
   "cell_type": "code",
   "execution_count": 15,
   "id": "1c310318",
   "metadata": {},
   "outputs": [
    {
     "name": "stdout",
     "output_type": "stream",
     "text": [
      "Table Creation Success\n"
     ]
    }
   ],
   "source": [
    "cursor = db.cursor()\n",
    "\n",
    "sql = \"\"\"\n",
    "    create table pydbtest(\n",
    "        id int unsigned not null auto_increment,\n",
    "        pre_lmt int not null,\n",
    "        primary key(id)\n",
    "    )\n",
    "\"\"\"\n",
    "\n",
    "cursor.execute(sql)\n",
    "\n",
    "db.commit()\n",
    "db.close()\n",
    "\n",
    "print(\"Table Creation Success\")"
   ]
  },
  {
   "cell_type": "code",
   "execution_count": 17,
   "id": "49e3cd93",
   "metadata": {},
   "outputs": [
    {
     "name": "stdout",
     "output_type": "stream",
     "text": [
      "Insertion Success\n"
     ]
    }
   ],
   "source": [
    "db = pymysql.connect(\n",
    "    host = '127.0.0.1',\n",
    "    port = 3306,\n",
    "    user = 'eddi',\n",
    "    passwd = 'eddi@123',\n",
    "    db = 'pydb'\n",
    ")\n",
    "\n",
    "cursor = db.cursor()\n",
    "\n",
    "sql = \"\"\"\n",
    "    insert into pydbtest(pre_lmt) values (%s)\n",
    "\"\"\"\n",
    "\n",
    "cursor.execute(sql, (40000000))\n",
    "\n",
    "db.commit()\n",
    "db.close()\n",
    "\n",
    "print(\"Insertion Success\")"
   ]
  },
  {
   "cell_type": "code",
   "execution_count": 53,
   "id": "65b6a9ca",
   "metadata": {},
   "outputs": [
    {
     "data": {
      "text/plain": [
       "0         11000000\n",
       "1         12000000\n",
       "2          9000000\n",
       "3         13000000\n",
       "4         15000000\n",
       "            ...   \n",
       "155741    11000000\n",
       "155742     9000000\n",
       "155743     9000000\n",
       "155744    15000000\n",
       "155745    11000000\n",
       "Name: PRE_LMT, Length: 155746, dtype: int64"
      ]
     },
     "execution_count": 53,
     "metadata": {},
     "output_type": "execute_result"
    }
   ],
   "source": [
    "target"
   ]
  },
  {
   "cell_type": "code",
   "execution_count": 62,
   "id": "f5a6f29e",
   "metadata": {},
   "outputs": [
    {
     "name": "stdout",
     "output_type": "stream",
     "text": [
      "Insertion Success\n"
     ]
    },
    {
     "name": "stderr",
     "output_type": "stream",
     "text": [
      "C:\\Users\\user2\\AppData\\Local\\Temp\\ipykernel_14776\\3876110633.py:12: FutureWarning: iteritems is deprecated and will be removed in a future version. Use .items instead.\n",
      "  for i,row in target.iteritems():\n"
     ]
    }
   ],
   "source": [
    "db = pymysql.connect(\n",
    "    host = '127.0.0.1',\n",
    "    port = 3306,\n",
    "    user = 'eddi',\n",
    "    passwd = 'eddi@123',\n",
    "    db = 'pydb'\n",
    ")\n",
    "\n",
    "cursor = db.cursor()\n",
    "\n",
    "# https://www.dataquest.io/blog/sql-insert-tutorial/\n",
    "for i,row in target.iteritems():\n",
    "    sql = \"INSERT INTO pydbtest (pre_lmt) VALUES (%s)\"\n",
    "    cursor.execute(sql, row)\n",
    "    \n",
    "    if i == 10:\n",
    "        break\n",
    "\n",
    "#target.to_sql(name='pydbtest', con=database_connection, if_exists='append', chunksize=10, index=False)\n",
    "\n",
    "#database_connection.close()\n",
    "\n",
    "db.commit()\n",
    "db.close()\n",
    "\n",
    "print(\"Insertion Success\")"
   ]
  },
  {
   "cell_type": "code",
   "execution_count": null,
   "id": "97350384",
   "metadata": {},
   "outputs": [],
   "source": []
  },
  {
   "cell_type": "code",
   "execution_count": null,
   "id": "88db3c60",
   "metadata": {},
   "outputs": [],
   "source": []
  },
  {
   "cell_type": "code",
   "execution_count": null,
   "id": "49aacba7",
   "metadata": {},
   "outputs": [],
   "source": []
  },
  {
   "cell_type": "code",
   "execution_count": null,
   "id": "0cfd516b",
   "metadata": {},
   "outputs": [],
   "source": []
  },
  {
   "cell_type": "code",
   "execution_count": null,
   "id": "c74aee30",
   "metadata": {},
   "outputs": [],
   "source": []
  },
  {
   "cell_type": "code",
   "execution_count": null,
   "id": "14e8036a",
   "metadata": {},
   "outputs": [],
   "source": []
  },
  {
   "cell_type": "code",
   "execution_count": null,
   "id": "34188e86",
   "metadata": {},
   "outputs": [],
   "source": []
  },
  {
   "cell_type": "code",
   "execution_count": null,
   "id": "19bc50b7",
   "metadata": {},
   "outputs": [],
   "source": []
  },
  {
   "cell_type": "code",
   "execution_count": null,
   "id": "28daaa29",
   "metadata": {},
   "outputs": [],
   "source": []
  },
  {
   "cell_type": "code",
   "execution_count": null,
   "id": "5f80fd52",
   "metadata": {},
   "outputs": [],
   "source": []
  },
  {
   "cell_type": "code",
   "execution_count": null,
   "id": "a8bbd4e0",
   "metadata": {},
   "outputs": [],
   "source": []
  },
  {
   "cell_type": "code",
   "execution_count": null,
   "id": "e158eefe",
   "metadata": {},
   "outputs": [],
   "source": []
  },
  {
   "cell_type": "code",
   "execution_count": null,
   "id": "d5124e87",
   "metadata": {},
   "outputs": [],
   "source": []
  },
  {
   "cell_type": "code",
   "execution_count": null,
   "id": "fa6db076",
   "metadata": {},
   "outputs": [],
   "source": []
  },
  {
   "cell_type": "code",
   "execution_count": null,
   "id": "99549c17",
   "metadata": {},
   "outputs": [],
   "source": []
  },
  {
   "cell_type": "code",
   "execution_count": null,
   "id": "b29e589a",
   "metadata": {},
   "outputs": [],
   "source": []
  },
  {
   "cell_type": "code",
   "execution_count": null,
   "id": "989217da",
   "metadata": {},
   "outputs": [],
   "source": []
  },
  {
   "cell_type": "code",
   "execution_count": null,
   "id": "427054dd",
   "metadata": {},
   "outputs": [],
   "source": [
    "feats"
   ]
  },
  {
   "cell_type": "code",
   "execution_count": null,
   "id": "30b556b8",
   "metadata": {},
   "outputs": [],
   "source": []
  },
  {
   "cell_type": "code",
   "execution_count": null,
   "id": "8e94a790",
   "metadata": {},
   "outputs": [],
   "source": []
  },
  {
   "cell_type": "code",
   "execution_count": null,
   "id": "28d6577d",
   "metadata": {},
   "outputs": [],
   "source": []
  },
  {
   "cell_type": "code",
   "execution_count": null,
   "id": "df03fdcc",
   "metadata": {},
   "outputs": [],
   "source": []
  }
 ],
 "metadata": {
  "kernelspec": {
   "display_name": "Python 3 (ipykernel)",
   "language": "python",
   "name": "python3"
  },
  "language_info": {
   "codemirror_mode": {
    "name": "ipython",
    "version": 3
   },
   "file_extension": ".py",
   "mimetype": "text/x-python",
   "name": "python",
   "nbconvert_exporter": "python",
   "pygments_lexer": "ipython3",
   "version": "3.10.9"
  }
 },
 "nbformat": 4,
 "nbformat_minor": 5
}
